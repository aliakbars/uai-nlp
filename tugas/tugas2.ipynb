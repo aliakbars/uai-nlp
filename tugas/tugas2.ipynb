{
 "cells": [
  {
   "cell_type": "markdown",
   "id": "a9c8c3b3",
   "metadata": {},
   "source": [
    "# Natural Language Processing\n",
    "\n",
    "## Tugas 2: Klasifikasi Teks\n",
    "\n",
    "### Mekanisme\n",
    "\n",
    "Anda hanya diwajibkan untuk mengumpulkan file ini saja ke uploader yang disediakan di https://elearning.uai.ac.id/. Ganti nama file ini saat pengumpulan menjadi **tugas2_NIM.ipynb**.\n",
    "\n",
    "**Keterlambatan**: Pengumpulan tugas yang melebihi tenggat yang telah ditentukan tidak akan diterima. Keterlambatan akan berakibat pada nilai nol untuk tugas ini.\n",
    "\n",
    "**Kolaborasi**: Anda diperbolehkan untuk berdiskusi dengan teman Anda, tetapi dilarang keras menyalin kode maupun tulisan dari teman Anda.\n",
    "\n",
    "### Petunjuk\n",
    "\n",
    "Pastikan jawaban Anda singkat, padat, dan jelas. Mayoritas pertanyaan yang diberikan dapat dijawab dalam 3-4 kalimat saja."
   ]
  },
  {
   "cell_type": "code",
   "execution_count": null,
   "id": "fc2bd648",
   "metadata": {},
   "outputs": [],
   "source": [
    "import matplotlib.pyplot as plt\n",
    "import numpy as np\n",
    "import pandas as pd"
   ]
  },
  {
   "cell_type": "code",
   "execution_count": null,
   "id": "6f2f10e8",
   "metadata": {},
   "outputs": [],
   "source": [
    "# Jalani cell ini untuk menginstalasi dependencies untuk memuat data\n",
    "!pip install huggingface_hub fastparquet pyarrow"
   ]
  },
  {
   "cell_type": "markdown",
   "id": "035c2fae",
   "metadata": {},
   "source": [
    "## 1. Klasifikasi Teks (15 poin)\n",
    "\n",
    "*Acknowledgement:* Data yang digunakan dalam tugas ini dikumpulkan oleh [Miguel Escobar Varela](https://miguelescobar.com/) dan tersedia secara terbuka di [HuggingFace](https://huggingface.co/datasets/mevsg/warisan-classification-data-v1). Untuk tugas ini, gunakan label dari kolom `tangible`."
   ]
  },
  {
   "cell_type": "code",
   "execution_count": null,
   "id": "83e1cbdc",
   "metadata": {},
   "outputs": [],
   "source": [
    "splits = {'train': 'data/train-00000-of-00001.parquet', 'test': 'data/test-00000-of-00001.parquet'}\n",
    "df_train = pd.read_parquet(\"hf://datasets/mevsg/warisan-classification-data-v1/\" + splits[\"train\"])\n",
    "df_test = pd.read_parquet(\"hf://datasets/mevsg/warisan-classification-data-v1/\" + splits[\"test\"])\n",
    "\n",
    "y_train = df_train[\"tangible\"]\n",
    "y_test = df_test[\"tangible\"]"
   ]
  },
  {
   "cell_type": "code",
   "execution_count": null,
   "id": "e593d4a3",
   "metadata": {},
   "outputs": [],
   "source": [
    "df_train.head()"
   ]
  },
  {
   "cell_type": "markdown",
   "id": "99369664",
   "metadata": {},
   "source": [
    "### Soal 1.1 (2 poin)\n",
    "\n",
    "Jika model memprediksi semua label sebagai 1, berapa nilai akurasinya?"
   ]
  },
  {
   "cell_type": "markdown",
   "id": "0d8f05f4",
   "metadata": {},
   "source": [
    "*Jawaban Anda di sini*"
   ]
  },
  {
   "cell_type": "markdown",
   "id": "06f3b310",
   "metadata": {},
   "source": [
    "### Soal 1.2 (2 poin)\n",
    "\n",
    "Gunakan model multinomial Naive Bayes untuk memprediksi label dari data latih.\n",
    "\n",
    "*Petunjuk: Representasi fitur seperti apa yang akan memaksimalkan akurasi model multinomial Naive Bayes?*"
   ]
  },
  {
   "cell_type": "code",
   "execution_count": null,
   "id": "dc9f9343",
   "metadata": {},
   "outputs": [],
   "source": [
    "# Kode Anda di sini\n",
    "print(f\"Akurasi = {accuracy_score(y_train, y_pred):.2%}\")\n",
    "\n",
    "assert accuracy_score(y_train, y_pred) >= 0.95"
   ]
  },
  {
   "cell_type": "markdown",
   "id": "f768d712",
   "metadata": {},
   "source": [
    "### Soal 1.3.a (2 poin)\n",
    "\n",
    "Gunakan model regresi logistik untuk memprediksi label dari data latih. Gunakan representasi TF-IDF sebagai fitur dari model."
   ]
  },
  {
   "cell_type": "code",
   "execution_count": null,
   "id": "b57dac9b",
   "metadata": {},
   "outputs": [],
   "source": [
    "# Kode Anda di sini\n",
    "print(f\"Akurasi = {accuracy_score(y_train, y_pred):.2%}\")\n",
    "\n",
    "assert accuracy_score(y_train, y_pred) >= 0.95"
   ]
  },
  {
   "cell_type": "markdown",
   "id": "f0c38b52",
   "metadata": {},
   "source": [
    "### Soal 1.3.b (2 poin)\n",
    "\n",
    "Tampilkan lima fitur (i.e. kata) dengan koefisien paling tinggi dari model regresi logistik. Sertakan nilai koefisiennya."
   ]
  },
  {
   "cell_type": "code",
   "execution_count": null,
   "id": "673a914a",
   "metadata": {},
   "outputs": [],
   "source": [
    "# Kode Anda di sini"
   ]
  },
  {
   "cell_type": "markdown",
   "id": "b404a3f1",
   "metadata": {},
   "source": [
    "### Soal 1.3.c (2 poin)\n",
    "\n",
    "Tampilkan lima fitur (i.e. kata) dengan koefisien paling rendah dari model regresi logistik. Sertakan nilai koefisiennya."
   ]
  },
  {
   "cell_type": "code",
   "execution_count": null,
   "id": "84475507",
   "metadata": {},
   "outputs": [],
   "source": [
    "# Kode Anda di sini"
   ]
  },
  {
   "cell_type": "markdown",
   "id": "a2ea9caa",
   "metadata": {},
   "source": [
    "### Soal 1.4 (2 poin)\n",
    "\n",
    "Prediksi data uji menggunakan model yang dihasilkan di soal 1.2 dan 1.3. Laporkan akurasinya."
   ]
  },
  {
   "cell_type": "code",
   "execution_count": null,
   "id": "7929c869",
   "metadata": {},
   "outputs": [],
   "source": [
    "# Kode Anda di sini"
   ]
  },
  {
   "cell_type": "markdown",
   "id": "f99a5176",
   "metadata": {},
   "source": [
    "### Soal 1.5 (3 poin)\n",
    "\n",
    "Berikan kesimpulan dari analisis yang sudah dilakukan di soal 1 ini."
   ]
  },
  {
   "cell_type": "markdown",
   "id": "d2c1b2b6",
   "metadata": {},
   "source": [
    "*Jawaban Anda di sini*"
   ]
  },
  {
   "cell_type": "markdown",
   "id": "f4c8f4cb",
   "metadata": {},
   "source": [
    "## 2. Implementasi Optimasi (25 poin)\n",
    "\n",
    "Anda akan mencoba membuat sendiri model regresi logistik dan metode optimasinya. Harapannya, akurasi dari berbagai model yang Anda hasilkan tidak akan berbeda jauh. Untuk memudahkan pencarian gradien, Anda akan mencoba library [JAX](https://jax.readthedocs.io/en/latest/notebooks/quickstart.html). Secara umum, komponen JAX yang digunakan di sini hanyalah implementasi NumPy di bawah JAX yang memungkinkan autograd - pencarian gradien otomatis.\n",
    "\n",
    "**Catatan: Dalam notebook ini, ada dua implementasi NumPy yang dipakai. `np` untuk NumPy asli, `jnp` untuk NumPy dari JAX. Metode yang Anda temukan di NumPy juga dapat ditemukan di NumPy dari JAX. Jika implementasi diminta dalam JAX, maka akan ada tanda [JAX] di soal.**"
   ]
  },
  {
   "cell_type": "code",
   "execution_count": null,
   "id": "312de24a",
   "metadata": {},
   "outputs": [],
   "source": [
    "!pip install jax"
   ]
  },
  {
   "cell_type": "code",
   "execution_count": null,
   "id": "a1547100",
   "metadata": {},
   "outputs": [],
   "source": [
    "from jax import numpy as jnp\n",
    "from jax import grad"
   ]
  },
  {
   "cell_type": "markdown",
   "id": "9d233723",
   "metadata": {},
   "source": [
    "### Soal 2.1 (2 poin)\n",
    "\n",
    "Bagian penting dari regresi logistik adalah fungsi logistik atau sigmoid. Implementasikan kode dari fungsi sigmoid **[JAX]**. Fungsi sigmoid didefinisikan sebagai:\n",
    "\n",
    "\\begin{equation}\n",
    "\\sigma(x) = \\frac{1}{1 + \\exp(-x)} \\tag{1}\n",
    "\\end{equation}"
   ]
  },
  {
   "cell_type": "code",
   "execution_count": null,
   "id": "518180b6",
   "metadata": {},
   "outputs": [],
   "source": [
    "def sigmoid(x):\n",
    "    pass # Kode Anda di sini\n",
    "\n",
    "assert sigmoid(0) == 0.5\n",
    "assert np.isclose(sigmoid(-np.inf), 0)\n",
    "assert np.isclose(sigmoid(np.inf), 1)"
   ]
  },
  {
   "cell_type": "markdown",
   "id": "c34b9e40",
   "metadata": {},
   "source": [
    "### Soal 2.2 (2 poin)\n",
    "\n",
    "Definisikan fungsi untuk memprediksi $y$ berdasarkan keluaran dari fungsi sigmoid seperti rumus di bawah ini **[JAX]**:\n",
    "\n",
    "\\begin{equation}\n",
    "\\hat{y} = \\sigma(\\mathbf{w} \\cdot \\mathbf{x} + b) \\tag{2}\n",
    "\\end{equation}\n",
    "\n",
    "Anda dapat menggunakan fungsi yang didefinisikan pada soal 2.1.\n",
    "\n",
    "*Perhatikan bahwa komponen bias dalam fungsi ini dipisahkan, tidak disatukan dengan vektor $\\mathbf{w}$.*"
   ]
  },
  {
   "cell_type": "code",
   "execution_count": null,
   "id": "c82de1d4",
   "metadata": {},
   "outputs": [],
   "source": [
    "def predict(X, w, b):\n",
    "    pass # Kode Anda di sini\n",
    "\n",
    "X = np.array([[0, 0], [0, 0]])\n",
    "w = np.array([1, 1])\n",
    "b = 0.0\n",
    "assert np.allclose(predict(X, w, b), np.array([0.5, 0.5]))"
   ]
  },
  {
   "cell_type": "markdown",
   "id": "e6bb4adc",
   "metadata": {},
   "source": [
    "### Soal 2.3.a (2 poin)\n",
    "\n",
    "Komponen penting lainnya dalam regresi logistik adalah mendefinisikan fungsi error. Dalam hal ini, Anda akan menggunakan fungsi *negative log likelihood* sebagai fungsi error, i.e. $E(\\mathbf{w}) = -\\mathcal{L}(\\mathbf{w})$. Log likelihood function didefinisikan sebagai:\n",
    "\n",
    "\\begin{equation}\n",
    "\\mathcal{L}(w) = \\sum_{i=1}^N y_i \\log \\hat{y}_i + (1-y_i) \\log (1 - \\hat{y}_i)\n",
    "\\tag{3}\n",
    "\\end{equation}\n",
    "\n",
    "Implementasikan fungsi $E(\\mathbf{w})$ **[JAX]**. Anda dapat memanfaatkan implementasi dari soal 2.2."
   ]
  },
  {
   "cell_type": "code",
   "execution_count": null,
   "id": "27a9204f",
   "metadata": {},
   "outputs": [],
   "source": [
    "def negative_log_likelihood(X, y, w, b):\n",
    "    pass # Kode Anda di sini"
   ]
  },
  {
   "cell_type": "markdown",
   "id": "cfed25e5",
   "metadata": {},
   "source": [
    "### Soal 2.3.b (2 poin)\n",
    "\n",
    "Kita akan mencoba membandingkan hasil dari autograd dengan implementasi manual. Autograd adalah implementasi metode diferensiasi otomatis jika diberikan suatu fungsi.\n",
    "\n",
    "Turunan dari fungsi pada persamaan (3) terhadap *bias* adalah:\n",
    "\n",
    "\\begin{equation}\n",
    "\\frac{\\partial E}{\\partial b} = -\\sum_{i=1}^N (y_i - \\hat{y}_i)\n",
    "\\tag{4}\n",
    "\\end{equation}\n",
    "\n",
    "Implementasikan fungsi `grad_nll` di bawah ini. Kode di cell berikutnya adalah untuk membandingkan antara implementasi Anda dengan autograd dari JAX. Anda dapat memanfaatkan implementasi dari soal 2.2."
   ]
  },
  {
   "cell_type": "code",
   "execution_count": null,
   "id": "edc0ca01",
   "metadata": {},
   "outputs": [],
   "source": [
    "def grad_nll(X, y, w, b):\n",
    "    pass # Kode Anda di sini"
   ]
  },
  {
   "cell_type": "code",
   "execution_count": null,
   "id": "4f71eed0",
   "metadata": {},
   "outputs": [],
   "source": [
    "# Pengujian implementasi - jangan diubah\n",
    "\n",
    "vec = TfidfVectorizer(max_features=1000)\n",
    "X_train = vec.fit_transform(df_train[\"texts\"]).todense()\n",
    "y_train = df_train[\"tangible\"].values\n",
    "\n",
    "np.random.seed(42)\n",
    "\n",
    "ndim = X_train.shape[1]\n",
    "w = np.random.randn(ndim) # inisialisasi acak\n",
    "b = np.zeros(1) # inisialisasi\n",
    "\n",
    "manual_grad = grad_nll(\n",
    "    X_train,\n",
    "    y_train,\n",
    "    w,\n",
    "    b\n",
    ")\n",
    "grad_loss = grad(negative_log_likelihood, 3) # grad = autograd dari JAX\n",
    "auto_grad = grad_loss(\n",
    "    X_train,\n",
    "    y_train,\n",
    "    w,\n",
    "    b\n",
    ")\n",
    "# argumen \"3\" menunjukkan fungsi akan diturunkan terhadap parameter di indeks 3, yaitu b\n",
    "assert np.isclose(manual_grad, auto_grad, rtol=1e-1)\n",
    "\n",
    "# Jika tidak terjadi apa-apa, berarti implementasi Anda sudah benar"
   ]
  },
  {
   "cell_type": "markdown",
   "id": "71d1242e",
   "metadata": {},
   "source": [
    "### Soal 2.4 (5 poin)\n",
    "\n",
    "Untuk melatih regresi logistik, Anda dapat menggunakan metode *gradient descent*. Lengkapi fungsi di bawah ini."
   ]
  },
  {
   "cell_type": "code",
   "execution_count": null,
   "id": "893ef7cb",
   "metadata": {},
   "outputs": [],
   "source": [
    "from tqdm import tqdm\n",
    "from sklearn.metrics import accuracy_score\n",
    "\n",
    "def fit(X, y, epoch=1000, eta=1e-3):\n",
    "    np.random.seed(42)\n",
    "    n = X.shape[0] # jumlah objek\n",
    "    ndim = X.shape[1] # jumlah atribut\n",
    "    w = np.random.randn(ndim) # inisialisasi\n",
    "    b = np.ones(1) # inisialisasi\n",
    "    grad_loss_w = ... # implementasikan dengan memanfaatkan autograd\n",
    "    grad_loss_b = ... # implementasikan dengan memanfaatkan autograd\n",
    "    \n",
    "    accs = []\n",
    "    losses = []\n",
    "    for i in tqdm(range(epoch)):\n",
    "        y_pred = ... # gunakan fungsi dari persamaan (2)\n",
    "        acc = accuracy_score(y, y_pred >= .5)\n",
    "        loss = negative_log_likelihood(X, y, w, b)\n",
    "        accs.append(acc)\n",
    "        losses.append(loss)\n",
    "        \n",
    "        # implementasikan perbaikan nilai w dan b\n",
    "        # Kode Anda di sini\n",
    "    \n",
    "    return w, b, accs, losses"
   ]
  },
  {
   "cell_type": "markdown",
   "id": "419363f9",
   "metadata": {},
   "source": [
    "### Soal 2.5.a (1 poin)\n",
    "\n",
    "Latihlah model dengan `X_train` dan `y_train` menggunakan fungsi `fit` dari soal 2.4."
   ]
  },
  {
   "cell_type": "code",
   "execution_count": null,
   "id": "a4824fb2",
   "metadata": {},
   "outputs": [],
   "source": [
    "# Kode Anda di sini"
   ]
  },
  {
   "cell_type": "markdown",
   "id": "d787bf01",
   "metadata": {},
   "source": [
    "### Soal 2.5.b (2 poin)\n",
    "\n",
    "Gambarkan *learning curve* dari error dan akurasi dalam dua grafik bersebelahan."
   ]
  },
  {
   "cell_type": "code",
   "execution_count": null,
   "id": "a06ad4b5",
   "metadata": {},
   "outputs": [],
   "source": [
    "# Kode Anda di sini"
   ]
  },
  {
   "cell_type": "markdown",
   "id": "682d16af",
   "metadata": {},
   "source": [
    "### Soal 2.5.c (2 poin)\n",
    "\n",
    "Prediksi label dari data uji memanfaatkan nilai `w` dan `b` yang telah Anda dapatkan dari melatih model. Hitunglah akurasinya."
   ]
  },
  {
   "cell_type": "code",
   "execution_count": null,
   "id": "edbd2a57",
   "metadata": {},
   "outputs": [],
   "source": [
    "# Kode Anda di sini\n",
    "print(f\"Akurasi = {accuracy_score(y_test, y_test_pred):.2%}\")\n",
    "\n",
    "assert accuracy_score(y_test, y_test_pred) >= 0.78"
   ]
  },
  {
   "cell_type": "markdown",
   "id": "8b39477f",
   "metadata": {},
   "source": [
    "### Soal 2.5.d (2 poin)\n",
    "\n",
    "Bandingkan hasil yang Anda dapatkan di soal 2.5.c dengan implementasi `SGDClassifier` dari scikit-learn. Gunakan `loss='log_loss'` sebagai parameter dari `SGDClassifier`. Hitung akurasi pada data uji."
   ]
  },
  {
   "cell_type": "code",
   "execution_count": null,
   "id": "23e93d3f",
   "metadata": {},
   "outputs": [],
   "source": [
    "from sklearn.linear_model import SGDClassifier\n",
    "\n",
    "# Kode Anda di sini\n",
    "print(f\"Akurasi = {accuracy_score(y_test, y_test_pred):.2%}\")\n",
    "\n",
    "assert accuracy_score(y_test, y_test_pred) >= 0.8"
   ]
  },
  {
   "cell_type": "markdown",
   "id": "6479b724",
   "metadata": {},
   "source": [
    "### Soal 2.6 (5 poin)\n",
    "\n",
    "Berikan kesimpulan Anda dari eksperimen sejauh ini. Apa yang dapat menyebabkan perbedaan hasil akurasi dari model regresi logistik yang Anda implementasikan di soal 2.4 dan SGDClassifier di soal 2.5.d?"
   ]
  },
  {
   "cell_type": "markdown",
   "id": "83feec66",
   "metadata": {},
   "source": [
    "*Jawaban Anda di sini*"
   ]
  },
  {
   "cell_type": "markdown",
   "id": "a77e313b",
   "metadata": {},
   "source": [
    "## 3. Word2vec (20 poin)\n",
    "\n",
    "Di bagian ini, Anda akan mencoba melatih model word2vec dengan varian skipgram, lalu menggunakan embeddings yang dihasilkan untuk melakukan klasifikasi label seperti di soal-soal sebelumnya."
   ]
  },
  {
   "cell_type": "code",
   "execution_count": null,
   "id": "ad036525",
   "metadata": {},
   "outputs": [],
   "source": [
    "!pip install fasttext"
   ]
  },
  {
   "cell_type": "code",
   "execution_count": null,
   "id": "36971bda",
   "metadata": {},
   "outputs": [],
   "source": [
    "(\n",
    "    df_train[\"texts\"]\n",
    "    .str.lower()\n",
    "    .str.replace(\"[^A-z ]\", \"\", regex=True)\n",
    "    .str.replace(\"  +\", \" \", regex=True)\n",
    "    .to_csv('../datasets/warisan-v1-train.txt', index=False)\n",
    ")"
   ]
  },
  {
   "cell_type": "markdown",
   "id": "7a0fd929",
   "metadata": {},
   "source": [
    "### Soal 3.1 (2 poin)\n",
    "\n",
    "Latihlah model menggunakan metode skipgram secara unsupervised dari file teks yang dihasilkan oleh cell sebelumnya."
   ]
  },
  {
   "cell_type": "code",
   "execution_count": null,
   "id": "8dfba759",
   "metadata": {},
   "outputs": [],
   "source": [
    "import fasttext\n",
    "\n",
    "# Kode Anda di sini"
   ]
  },
  {
   "cell_type": "markdown",
   "id": "fc49ea9d",
   "metadata": {},
   "source": [
    "### Soal 3.2 (2 poin)\n",
    "\n",
    "Ambil matriks yang dihasilkan model yang telah dilatih, reduksi menjadi dua dimensi dengan menggunakan [t-SNE](https://scikit-learn.org/stable/modules/generated/sklearn.manifold.TSNE.html). Lalu visualisasikan kata-kata yang terlampir dalam *scatter plot* dua dimensi. Sertakan labelnya.\n",
    "\n",
    "*Petunjuk: Untuk visualisasi, akan lebih mudah untuk menggunakan [Plotly Express](https://plotly.com/python/line-and-scatter/).*"
   ]
  },
  {
   "cell_type": "code",
   "execution_count": null,
   "id": "99a76e97",
   "metadata": {},
   "outputs": [],
   "source": [
    "from sklearn.manifold import TSNE\n",
    "\n",
    "# Kode Anda di sini\n",
    "\n",
    "words = [\n",
    "    \"jamu\",\n",
    "    \"batik\",\n",
    "    \"takbenda\",\n",
    "    \"wayang\",\n",
    "    \"tenun\",\n",
    "    \"bangunan\",\n",
    "    \"cagar\",\n",
    "    \"candi\",\n",
    "    \"museum\",\n",
    "    \"situs\",\n",
    "    \"songket\",\n",
    "    \"lurik\",\n",
    "    \"kain\",\n",
    "    \"ikat\",\n",
    "    \"tapis\",\n",
    "    \"rajin\",\n",
    "    \"borobudur\",\n",
    "    \"prambanan\",\n",
    "    \"boko\",\n",
    "    \"relief\",\n",
    "    \"resep\",\n",
    "    \"obat\",\n",
    "    \"koleksi\",\n",
    "    \"pustaka\",\n",
    "]"
   ]
  },
  {
   "cell_type": "code",
   "execution_count": null,
   "id": "6ed03518",
   "metadata": {},
   "outputs": [],
   "source": [
    "# Kode Anda di sini"
   ]
  },
  {
   "cell_type": "markdown",
   "id": "45c201cf",
   "metadata": {},
   "source": [
    "### Soal 3.3 (1 poin)\n",
    "\n",
    "Tampilkan 10 kata yang menjadi tetangga terdekat dari kata \"candi\"."
   ]
  },
  {
   "cell_type": "code",
   "execution_count": null,
   "id": "70e337e5",
   "metadata": {},
   "outputs": [],
   "source": [
    "# Kode Anda di sini"
   ]
  },
  {
   "cell_type": "markdown",
   "id": "deb85701",
   "metadata": {},
   "source": [
    "### Soal 3.4 (1 poin)\n",
    "\n",
    "Tampilkan 10 kata yang menjadi tetangga terdekat dari kata \"wayang\"."
   ]
  },
  {
   "cell_type": "code",
   "execution_count": null,
   "id": "86f8123b",
   "metadata": {},
   "outputs": [],
   "source": [
    "# Kode Anda di sini"
   ]
  },
  {
   "cell_type": "markdown",
   "id": "5bf9e82a",
   "metadata": {},
   "source": [
    "### Soal 3.5.a (3 poin)\n",
    "\n",
    "Latihlah model regresi logistik menggunakan rata-rata dari embeddings tiap kata dalam teks. Laporkan akurasinya pada data latih."
   ]
  },
  {
   "cell_type": "code",
   "execution_count": null,
   "id": "7db06c1c",
   "metadata": {},
   "outputs": [],
   "source": [
    "X_train = (\n",
    "    df_train[\"texts\"]\n",
    "    .str.lower()\n",
    "    .str.replace(\"[^A-z ]\", \"\", regex=True)\n",
    "    .str.replace(\"  +\", \" \", regex=True)\n",
    ")\n",
    "\n",
    "# Kode Anda di sini\n",
    "\n",
    "print(f\"Akurasi = {accuracy_score(y_train, y_train_pred):.2%}\")\n",
    "\n",
    "assert accuracy_score(y_train, y_train_pred) <= 0.85"
   ]
  },
  {
   "cell_type": "markdown",
   "id": "ba9209d1",
   "metadata": {},
   "source": [
    "### Soal 3.5.b (3 poin)\n",
    "\n",
    "Menggunakan model yang telah dilatih di soal 3.5.a, prediksi label dari data uji. Laporkan akurasinya."
   ]
  },
  {
   "cell_type": "code",
   "execution_count": null,
   "id": "7de1fde5",
   "metadata": {},
   "outputs": [],
   "source": [
    "# Kode Anda di sini\n",
    "print(f\"Akurasi = {accuracy_score(y_test, y_test_pred):.2%}\")\n",
    "\n",
    "assert accuracy_score(y_test, y_test_pred) <= 0.85"
   ]
  },
  {
   "cell_type": "markdown",
   "id": "d2dc8f04",
   "metadata": {},
   "source": [
    "### Soal 3.6 (3 poin)\n",
    "\n",
    "Sebutkan tiga alasan dapat menyebabkan akurasi dari model regresi logistik menggunakan fitur word2vec lebih buruk dibandingkan TF-IDF dalam kasus ini."
   ]
  },
  {
   "cell_type": "markdown",
   "id": "925e5753",
   "metadata": {},
   "source": [
    "*Jawaban Anda di sini*"
   ]
  },
  {
   "cell_type": "markdown",
   "id": "26ee3a9b",
   "metadata": {},
   "source": [
    "### Soal 3.7 (5 poin)\n",
    "\n",
    "Lakukan eksplorasi tambahan terkait dataset yang diberikan. Berikan komentar terkait hasil eksplorasi Anda.\n",
    "\n",
    "Beberapa alternatif:\n",
    "1. Coba label yang berbeda, maksimalkan metrik evaluasinya. Apakah cukup menggunakan akurasi?\n",
    "2. Coba model yang berbeda. Apakah akurasinya bisa ditingkatkan lagi dengan fitur word2vec?\n",
    "3. Coba vektor yang berbeda. Cari sumber lain untuk mendapatkan word embeddings dalam bahasa Indonesia, lalu latih kembali model regresi logistik dengan cara yang serupa seperti di atas. Perhatikan akurasinya."
   ]
  },
  {
   "cell_type": "code",
   "execution_count": null,
   "id": "f8ec9a25",
   "metadata": {},
   "outputs": [],
   "source": [
    "# Kode Anda di sini"
   ]
  },
  {
   "cell_type": "markdown",
   "id": "6cbfaddb",
   "metadata": {},
   "source": [
    "*Jawaban Anda di sini*"
   ]
  }
 ],
 "metadata": {
  "kernelspec": {
   "display_name": "base",
   "language": "python",
   "name": "python3"
  },
  "language_info": {
   "codemirror_mode": {
    "name": "ipython",
    "version": 3
   },
   "file_extension": ".py",
   "mimetype": "text/x-python",
   "name": "python",
   "nbconvert_exporter": "python",
   "pygments_lexer": "ipython3",
   "version": "3.12.7"
  }
 },
 "nbformat": 4,
 "nbformat_minor": 5
}
